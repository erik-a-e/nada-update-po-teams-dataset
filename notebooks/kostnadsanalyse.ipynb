{
 "cells": [
  {
   "cell_type": "code",
   "execution_count": null,
   "id": "e4005876-8fd8-4414-ab43-63d0196f421e",
   "metadata": {},
   "outputs": [],
   "source": [
    "import os\n",
    "import pandas as pd\n",
    "import plotly.express as px\n",
    "import plotly.graph_objects as go\n",
    "import plotly.subplots as sp\n",
    "import numpy as np\n",
    "from sklearn.linear_model import LinearRegression\n",
    "from datetime import datetime as dt\n",
    "from google.cloud import bigquery, secretmanager"
   ]
  },
  {
   "cell_type": "code",
   "execution_count": null,
   "id": "4fb590c3-2203-47b0-8995-0cd7ad0e7777",
   "metadata": {},
   "outputs": [],
   "source": [
    "def set_secrets_as_env(split_on=':'):\n",
    "    secrets = secretmanager.SecretManagerServiceClient()\n",
    "    resource_name = f\"projects/knada-gcp/secrets/vebjorn-rekkebo-bac1/versions/latest\"\n",
    "    secret = secrets.access_secret_version(name=resource_name)\n",
    "    secrets = secret.payload.data.decode('UTF-8')\n",
    "    for secret in secrets.splitlines():\n",
    "        key, value = secret.split(split_on)\n",
    "        os.environ[key] = value"
   ]
  },
  {
   "cell_type": "code",
   "execution_count": null,
   "id": "faa585e1-0c09-4763-b20c-344b27155f42",
   "metadata": {},
   "outputs": [],
   "source": [
    "set_secrets_as_env()"
   ]
  },
  {
   "cell_type": "code",
   "execution_count": null,
   "id": "37adccab-8633-43eb-ad9b-f5c3af43a0b1",
   "metadata": {},
   "outputs": [],
   "source": [
    "Client = bigquery.Client('nais-analyse-prod-2dcc')"
   ]
  },
  {
   "cell_type": "code",
   "execution_count": null,
   "id": "7a18d0a7-a9a9-44ad-aab1-56679d138970",
   "metadata": {},
   "outputs": [],
   "source": [
    "df_bq = Client.query(\"\"\"\n",
    "select EXTRACT(year from dato) as year, EXTRACT(month from dato) as month,  EXTRACT(ISOWEEK from dato) as week,\n",
    "case when EXTRACT(month from dato) in (11, 12) then EXTRACT(year from dato) + 1\n",
    "else EXTRACT(year from dato) end as fin_year,\n",
    "env, service_description, sum(calculated_cost) as calculated_cost\n",
    "from `nais-analyse-prod-2dcc.navbilling.cost_breakdown_total`\n",
    "where dato >= '2021-11-01'\n",
    "and tenant in ('nav', 'dev-nais', 'example')\n",
    "group by year, month, week, fin_year, env, service_description\n",
    "order by year asc, month asc, week asc;\n",
    "\"\"\").result().to_dataframe()"
   ]
  },
  {
   "cell_type": "code",
   "execution_count": null,
   "id": "8ebc4b1b-fce4-41b0-bd14-c0c2f765c385",
   "metadata": {},
   "outputs": [],
   "source": [
    "FIRST_YEAR = 2021\n",
    "FIRST_WEEK = 44 # 1. november 2021\n",
    "\n",
    "\n",
    "def agg_week(row):\n",
    "    if row.week >= 52 and row.month == 1:\n",
    "        return row.week + 52 * (row.year - FIRST_YEAR - 1) - (FIRST_WEEK - 1)\n",
    "    else:\n",
    "        return row.week + 52 * (row.year - FIRST_YEAR) - (FIRST_WEEK - 1)\n",
    "    \n",
    "    \n",
    "def unagg_week(week):\n",
    "    week_num = (week + (FIRST_WEEK - 1)) % 52\n",
    "    year = (week + (FIRST_WEEK - 1)) // 52 + FIRST_YEAR\n",
    "    if week_num == 0:\n",
    "        return f\"{year-1} - {str(52).zfill(2)}\"\n",
    "    else:\n",
    "        return f\"{year} - {str(week_num).zfill(2)}\""
   ]
  },
  {
   "cell_type": "code",
   "execution_count": null,
   "id": "ca76dba6-648f-478c-84e1-64afd1e27699",
   "metadata": {},
   "outputs": [],
   "source": [
    "df = df_bq.copy()\n",
    "\n",
    "df[\"week_padded\"] = df[\"week\"].apply(str).apply(lambda x: x.zfill(2))\n",
    "df[\"year_week\"] = df[[\"year\", \"week_padded\"]].apply(lambda row: \"-\".join(row.values.astype(str)), axis=1)\n",
    "df[\"n_week\"] = df.apply(lambda row: agg_week(row), axis=1)\n",
    "df[\"month_padded\"] = df[\"month\"].apply(str).apply(lambda x: x.zfill(2))\n",
    "df[\"year_month\"] = df[[\"year\", \"month_padded\"]].apply(lambda row: \"-\".join(row.values.astype(str)), axis=1)\n",
    "\n",
    "df_2022 = df[df.fin_year == 2022]\n",
    "df_2023 = df[df.fin_year == 2023]"
   ]
  },
  {
   "cell_type": "code",
   "execution_count": null,
   "id": "638e306a-8049-4cd6-9bfa-1ff4ca3c4a85",
   "metadata": {},
   "outputs": [],
   "source": [
    "cols = [\"week\", \"n_week\", \"service_description\"]\n",
    "\n",
    "current_n_week = df.n_week.max()\n",
    "df_service = df[df.n_week < current_n_week].groupby(cols, as_index=False).calculated_cost.sum().sort_values(\"n_week\").reset_index(drop=True)\n",
    "df_service[\"year_week\"] = df_service.n_week.apply(unagg_week)"
   ]
  },
  {
   "cell_type": "code",
   "execution_count": null,
   "id": "d1bb9f84-789e-48f4-8a71-5221d53a9585",
   "metadata": {
    "tags": []
   },
   "outputs": [],
   "source": [
    "n_top = 2\n",
    "top_services = set(df_service\n",
    "                   .groupby(\"service_description\", as_index=False)\n",
    "                   .calculated_cost\n",
    "                   .sum()\n",
    "                   .sort_values(\"calculated_cost\", ascending=False)\n",
    "                   .iloc[:n_top]\n",
    "                   .service_description\n",
    "                  )\n",
    "top_services"
   ]
  },
  {
   "cell_type": "code",
   "execution_count": null,
   "id": "13d22513-4d61-43b1-af75-6271e3ee8419",
   "metadata": {},
   "outputs": [],
   "source": [
    "def group_services(service):\n",
    "    if service in top_services:\n",
    "        return service\n",
    "    else:\n",
    "        return \"Other services\""
   ]
  },
  {
   "cell_type": "code",
   "execution_count": null,
   "id": "c84eeb9e-4793-434e-b729-d5d6199009c8",
   "metadata": {},
   "outputs": [],
   "source": [
    "# 'Cloud Dialogflow API' ødelegger rekkefølgen på stolpene så vi tar den bort. Det er snakk om mindre enn en euro.\n",
    "df_plot_services = df_service[df_service.service_description != 'Cloud Dialogflow API']\n",
    "fig_tot = px.bar(df_plot_services, \"year_week\", \"calculated_cost\", color=\"service_description\", barmode=\"stack\", labels={\"year_week\":\"År - uke\", \"calculated_cost\":\"Kostnad (€)\"})\n",
    "#fig_tot.update_xaxes(dtick=5, tick0='2021 - 44')\n",
    "fig_tot.update_xaxes(categoryorder='array', categoryarray=df_service.year_week.unique() )\n",
    "\n",
    "fig_tot.show()"
   ]
  },
  {
   "cell_type": "code",
   "execution_count": null,
   "id": "bc9b68fa-fc0c-472d-847e-13af83ecf787",
   "metadata": {},
   "outputs": [],
   "source": [
    "df_tot = df_service.groupby([\"n_week\"], as_index=False).calculated_cost.sum()\n",
    "px.line(df_tot, \"n_week\", \"calculated_cost\")"
   ]
  },
  {
   "cell_type": "markdown",
   "id": "e8c22ece-2140-4936-be01-083c13e0fb01",
   "metadata": {
    "tags": []
   },
   "source": [
    "# Regresjon"
   ]
  },
  {
   "cell_type": "code",
   "execution_count": null,
   "id": "16340ad0-78dd-4cb0-964c-197cf02c51b6",
   "metadata": {},
   "outputs": [],
   "source": [
    "weeks_to_look_at = 15 # ENDRE HER\n",
    "\n",
    "def make_training_data(df_service, current_n_week=current_n_week, weeks_to_look_at=weeks_to_look_at):\n",
    "\n",
    "    df_services_grouped = df_service.copy()\n",
    "    df_services_grouped[\"service_description\"] = df_services_grouped.service_description.apply(lambda x: group_services(x))\n",
    "    df_services_grouped[\"year_week\"] = df_services_grouped.n_week.apply(unagg_week)\n",
    "    df_s = df_services_grouped.groupby([\"service_description\", \"n_week\"], as_index=False).calculated_cost.sum()\n",
    "\n",
    "    start_n_week = current_n_week - weeks_to_look_at \n",
    "    df_s = df_s[(df_s.n_week >= start_n_week) & (df_s.n_week < current_n_week)]\n",
    "\n",
    "    x_s = df_s[[\"service_description\", \"n_week\"]]\n",
    "    x_s = pd.get_dummies(data=x_s)\n",
    "    y_s = df_s[[\"calculated_cost\"]]\n",
    "    \n",
    "    return x_s, y_s, df_services_grouped"
   ]
  },
  {
   "cell_type": "code",
   "execution_count": null,
   "id": "9914688f-e8e6-4d20-84d6-1071fffbe88c",
   "metadata": {},
   "outputs": [],
   "source": [
    "x_s, y_s, df_services_grouped = make_training_data(df_service, current_n_week, 15)"
   ]
  },
  {
   "cell_type": "code",
   "execution_count": null,
   "id": "b1ce6c8d-f3d1-4144-945a-a00a95ffd630",
   "metadata": {},
   "outputs": [],
   "source": [
    "#x_s"
   ]
  },
  {
   "cell_type": "code",
   "execution_count": null,
   "id": "608f6c28-c6ba-4aa8-a141-e59b523378ce",
   "metadata": {},
   "outputs": [],
   "source": [
    "mod = LinearRegression().fit(x_s.values, y_s.values)"
   ]
  },
  {
   "cell_type": "code",
   "execution_count": null,
   "id": "16c537a2-314b-499b-b94c-2f1c859ffb54",
   "metadata": {},
   "outputs": [],
   "source": [
    "mod.intercept_"
   ]
  },
  {
   "cell_type": "code",
   "execution_count": null,
   "id": "307ba723-8a00-449f-815f-0df09ea700a6",
   "metadata": {},
   "outputs": [],
   "source": [
    "def make_week_vars(current_n_week=current_n_week):\n",
    "    previous_n_week = current_n_week - 1\n",
    "    n_weeks = 52*2 - previous_n_week\n",
    "    n_services = x_s.shape[1] - 1\n",
    "    return previous_n_week, n_weeks, n_services"
   ]
  },
  {
   "cell_type": "code",
   "execution_count": null,
   "id": "f395c9d2-4748-49c1-b040-20e806289a4c",
   "metadata": {},
   "outputs": [],
   "source": [
    "previous_n_week, n_weeks, n_services = make_week_vars(current_n_week)\n",
    "print(previous_n_week, n_weeks, n_services)"
   ]
  },
  {
   "cell_type": "code",
   "execution_count": null,
   "id": "d32bf0a0-754e-48c8-b9dd-e87e0ae9a9c1",
   "metadata": {
    "tags": []
   },
   "outputs": [],
   "source": [
    "def predict_cost(mod, current_n_week, n_weeks, n_services):\n",
    "    cost = np.zeros([n_weeks + 1, n_services])\n",
    "    for week in range(current_n_week, 2*52+1):\n",
    "        for service in range(n_services):\n",
    "            z = np.zeros([n_services])\n",
    "            z[service] = 1\n",
    "            x1 = np.append([week], z).reshape(1,n_services+1)\n",
    "            cost[week-current_n_week, service] += mod.predict(x1)[0]\n",
    "\n",
    "    # Last week of October 2023 has only two days.\n",
    "    last_week = 2*52+1\n",
    "    z = np.zeros([n_services])\n",
    "    for service in range(n_services):\n",
    "        z[service] = 1\n",
    "        x1 = np.append([last_week], z).reshape(1,n_services+1)\n",
    "        cost[last_week-current_n_week, service] += mod.predict(x1)[0] * 2/7\n",
    "    return cost"
   ]
  },
  {
   "cell_type": "code",
   "execution_count": null,
   "id": "66f549c5-eefa-4018-a2ec-fbdacd8214d3",
   "metadata": {},
   "outputs": [],
   "source": [
    "cost = predict_cost(mod, current_n_week, n_weeks, n_services)"
   ]
  },
  {
   "cell_type": "code",
   "execution_count": null,
   "id": "2f88991b-770d-48ea-92e4-9b531329a0b6",
   "metadata": {},
   "outputs": [],
   "source": [
    "def cost_to_df(cost, x_s, current_n_week):\n",
    "    df_cost = pd.DataFrame(cost)\n",
    "    df_cost.columns = pd.Series(x_s.columns[1:]).apply(lambda x: x[20:])\n",
    "\n",
    "    df_cost[\"n_week\"] = df_cost.index + current_n_week\n",
    "    return df_cost"
   ]
  },
  {
   "cell_type": "code",
   "execution_count": null,
   "id": "e2c34b65-d68a-4820-b1bf-ea8bb45ea623",
   "metadata": {},
   "outputs": [],
   "source": [
    "df_cost = cost_to_df(cost, x_s, current_n_week)"
   ]
  },
  {
   "cell_type": "code",
   "execution_count": null,
   "id": "431d22f0-7795-4a5b-ac8c-ceb694d373ba",
   "metadata": {},
   "outputs": [],
   "source": [
    "df_cost.head()"
   ]
  },
  {
   "cell_type": "code",
   "execution_count": null,
   "id": "436d031f-44f4-4930-972a-64e7ea5fed2c",
   "metadata": {},
   "outputs": [],
   "source": [
    "def make_df_plot(df_cost, current_n_week):\n",
    "    df_plot = df_cost.sum(axis=1).reset_index(name=\"cost\")\n",
    "    df_plot[\"year_week\"] = df_plot[\"index\"] + current_n_week\n",
    "    df_plot[\"year_week\"] = df_plot[\"year_week\"].apply(unagg_week)\n",
    "    df_plot[\"index\"] = df_plot[\"index\"] + current_n_week - 52\n",
    "    df_plot = df_plot.rename(columns={\"index\":\"week\"})\n",
    "    return df_plot"
   ]
  },
  {
   "cell_type": "code",
   "execution_count": null,
   "id": "142c285d-0202-4210-b9ed-47b0e82aea4d",
   "metadata": {},
   "outputs": [],
   "source": [
    "df_plot = make_df_plot(df_cost, current_n_week)\n",
    "df_plot.head()"
   ]
  },
  {
   "cell_type": "code",
   "execution_count": null,
   "id": "e8cffb39-6061-4913-ad84-954415d73351",
   "metadata": {},
   "outputs": [],
   "source": [
    "df_2023.tail()"
   ]
  },
  {
   "cell_type": "code",
   "execution_count": null,
   "id": "a267b5a1-7474-41fc-bad7-5bef28f176cf",
   "metadata": {},
   "outputs": [],
   "source": [
    "def compute_total_costs(df_plot, current_n_week):\n",
    "    kostnad_i_fjor = df_2022.calculated_cost.sum()\n",
    "    kostnad_hittil = df_2023[(df_2023.n_week < current_n_week)].calculated_cost.sum()\n",
    "\n",
    "    forventet_resten = df_plot.cost.sum()\n",
    "    forventet_totalt = kostnad_hittil + forventet_resten\n",
    "    return kostnad_i_fjor, kostnad_hittil, forventet_resten, forventet_totalt"
   ]
  },
  {
   "cell_type": "code",
   "execution_count": null,
   "id": "41b9058f-40d3-4f5b-a42b-cbf37351bda0",
   "metadata": {},
   "outputs": [],
   "source": [
    "kostnad_i_fjor, kostnad_hittil, forventet_resten, forventet_totalt = compute_total_costs(df_plot, current_n_week)\n",
    "print(f\"Kostnad i fjor: {int(kostnad_i_fjor)} € \\nKostnad hittil i år: {int(kostnad_hittil)} € \\nForventet gjenstående kostnad i år: {int(forventet_resten)} € \\nForventet totalkostnad i år: {int(forventet_totalt)} €\")"
   ]
  },
  {
   "cell_type": "code",
   "execution_count": null,
   "id": "43c4e534-b397-49c0-8e8b-57fea8adbed5",
   "metadata": {},
   "outputs": [],
   "source": [
    "fig_numbers = sp.make_subplots(rows=2, cols=2,\n",
    "                                 specs=[[{\"type\": \"indicator\"} ,{\"type\": \"indicator\"}],\n",
    "                                       [{\"type\": \"indicator\"},{\"type\": \"indicator\"}]])\n",
    "\n",
    "fig_numbers.add_trace(go.Indicator(\n",
    "        mode = 'number', \n",
    "        value = int(kostnad_hittil),\n",
    "        number = {'valueformat': ',', 'suffix' :' €'},\n",
    "        title = {'text': '{0}<br><span style=\\'font-size:0.7em;color:gray\\'>{1}</span>'.format(\"\",\"Kostnad hittil i år (eksludert inneværende uke)\")}\n",
    "    ), row = 1, col = 1)\n",
    "fig_numbers.add_trace(go.Indicator(\n",
    "        mode = 'number', \n",
    "        value = int(forventet_resten),\n",
    "        number = {'valueformat': ',', 'suffix' :' €'},\n",
    "        title = {'text': '{0}<br><span style=\\'font-size:0.7em;color:gray\\'>{1}</span>'.format(\"\",\"Forventet kostnad resten av året\")}\n",
    "    ), row = 2, col = 1)\n",
    "fig_numbers.add_trace(go.Indicator(\n",
    "        mode = 'number', \n",
    "        value = int(forventet_totalt),\n",
    "        number = {'valueformat': ',', 'suffix' :' €'},\n",
    "        title = {'text': '{0}<br><span style=\\'font-size:0.7em;color:gray\\'>{1}</span>'.format(\"\",\"Forventet totalkostnad i år\")}\n",
    "    ), row = 1, col = 2)\n",
    "fig_numbers.add_trace(go.Indicator(\n",
    "        mode = 'number', \n",
    "        value = int(kostnad_i_fjor),\n",
    "        number = {'valueformat': ',', 'suffix' :' €'},\n",
    "        title = {'text': '{0}<br><span style=\\'font-size:0.7em;color:gray\\'>{1}</span>'.format(\"\",\"Totalkostnad i fjor\")}\n",
    "    ), row = 2, col = 2)"
   ]
  },
  {
   "cell_type": "code",
   "execution_count": null,
   "id": "1f2dcfd3-ffab-4c80-9452-79df5edbca43",
   "metadata": {},
   "outputs": [],
   "source": [
    "df_tot[\"year_week\"] = df_tot.n_week.apply(unagg_week)\n",
    "df_tot.head()"
   ]
  },
  {
   "cell_type": "code",
   "execution_count": null,
   "id": "6627ae29-0bdb-48ff-a9a6-44b213ed247a",
   "metadata": {},
   "outputs": [],
   "source": [
    "fig_forecast = px.bar(df_tot, \"year_week\", \"calculated_cost\", title=\"Kostnad per uke november 2021 - oktober 2023\", color_discrete_sequence=[\"rgba(0, 86, 180, 1)\"], labels={\"year_week\":\"Uke\", \"calculated_cost\":\"Kostnad (€)\"})\n",
    "fig_forecast.update_traces(name='Faktisk kostnad', showlegend = True)\n",
    "fig_forecast.add_vline(x='23 - 01', line_dash=\"dash\", line_color=\"gray\")\n",
    "fig_forecast.add_traces(go.Bar(x=df_plot.year_week, y=df_plot.cost, name=\"Forventet kostnad\", marker_color=\"rgba(153, 195, 255, 1)\"))\n"
   ]
  },
  {
   "cell_type": "code",
   "execution_count": null,
   "id": "c00638b4-eef6-42b1-9bc1-67393e151adb",
   "metadata": {},
   "outputs": [],
   "source": [
    "df_cost.head()"
   ]
  },
  {
   "cell_type": "code",
   "execution_count": null,
   "id": "208b4369-50ba-4c74-9961-d28b2e30bd74",
   "metadata": {},
   "outputs": [],
   "source": [
    "df_pred = pd.melt(df_cost, id_vars=['n_week'])\n",
    "df_pred.head()\n",
    "\n",
    "df_pred[\"year_week\"] = df_pred.n_week.apply(lambda x: unagg_week(x))"
   ]
  },
  {
   "cell_type": "code",
   "execution_count": null,
   "id": "f5b4993d-a7d7-4ace-b74e-70e8e156be69",
   "metadata": {},
   "outputs": [],
   "source": [
    "services = list(df_services_grouped.service_description.unique())\n",
    "services.sort()\n",
    "service_to_color = dict(zip(services, px.colors.qualitative.Alphabet*2))\n",
    "px.colors.qualitative.Alphabet\n",
    "\n",
    "plot_data=[go.Bar(x=df_services_grouped[df_services_grouped.service_description == services[i]].n_week,\n",
    "                  y=df_services_grouped[df_services_grouped.service_description == services[i]].calculated_cost,\n",
    "                  marker_color=service_to_color[services[i]],\n",
    "                  name=services[i])\n",
    "                  for i in range(len(services))]\n"
   ]
  },
  {
   "cell_type": "code",
   "execution_count": null,
   "id": "bb174a9f-7210-498c-a9bc-faa01345670b",
   "metadata": {},
   "outputs": [],
   "source": [
    "print(services)"
   ]
  },
  {
   "cell_type": "code",
   "execution_count": null,
   "id": "993d26ec-77fa-49e1-8103-5148eb8edce6",
   "metadata": {},
   "outputs": [],
   "source": [
    "fig_2 = px.bar(df_pred, \"n_week\", \"value\", color=\"variable\", barmode=\"stack\", color_discrete_map=service_to_color)\n",
    "fig_2.add_traces(data=plot_data)\n",
    "#fig_2.update_layout({\"height\": 500})\n",
    "fig_2.show()"
   ]
  },
  {
   "cell_type": "markdown",
   "id": "ec7c8590-da79-43bc-b077-0f28e993d303",
   "metadata": {},
   "source": [
    "# Historikk på forventede utgifter"
   ]
  },
  {
   "cell_type": "code",
   "execution_count": null,
   "id": "9ba443e1-4d51-49bb-bccb-7a6e01985304",
   "metadata": {},
   "outputs": [],
   "source": [
    "first_n_week = 53\n",
    "predictions = np.zeros([current_n_week - first_n_week + 1])\n",
    "\n",
    "for n_week in range(first_n_week, current_n_week + 1):\n",
    "    #n_week = 55\n",
    "    x_s, y_s, df_services_grouped = make_training_data(df_service, n_week, 15)\n",
    "    #print(x_s.shape, y_s.shape)\n",
    "    mod = LinearRegression().fit(x_s.values, y_s.values)\n",
    "    previous_n_week, n_weeks, n_services = make_week_vars(n_week)\n",
    "    #print(previous_n_week, n_weeks, n_services)\n",
    "    cost = predict_cost(mod, n_week, n_weeks, n_services)\n",
    "    df_cost = cost_to_df(cost, x_s, n_week)\n",
    "    df_plot = make_df_plot(df_cost, n_week)\n",
    "    kostnad_i_fjor, kostnad_hittil, forventet_resten, forventet_totalt = compute_total_costs(df_plot, n_week)\n",
    "    #print(f\"Kostnad i fjor: {int(kostnad_i_fjor)} € \\nKostnad hittil i år: {int(kostnad_hittil)} € \\nForventet gjenstående kostnad i år: {int(forventet_resten)} € \\nForventet totalkostnad i år: {int(forventet_totalt)} €\")\n",
    "    predictions[n_week - first_n_week] = forventet_totalt"
   ]
  },
  {
   "cell_type": "code",
   "execution_count": null,
   "id": "47f62a99-c3d1-4031-88c2-a4de4bc6c1d3",
   "metadata": {},
   "outputs": [],
   "source": [
    "np.linspace(predictions.shape[0]-1, 0, predictions.shape[0])"
   ]
  },
  {
   "cell_type": "code",
   "execution_count": null,
   "id": "cc7ed155-eca4-490d-a075-69686f414337",
   "metadata": {},
   "outputs": [],
   "source": [
    "predictions"
   ]
  },
  {
   "cell_type": "code",
   "execution_count": null,
   "id": "86641063-8263-4138-a29a-5b602e7ebde2",
   "metadata": {},
   "outputs": [],
   "source": [
    "fig_historic_predictions = px.line(x=np.linspace(predictions.shape[0]-1, 0, predictions.shape[0]), y=predictions,\n",
    "              title=\"Totalkostnad i 2023 predikert på ulike tidspunkt\",\n",
    "              labels={\"x\":\"Uker siden\", \"y\":\"Forventet kostnad 2023 (€)\"})\n",
    "fig_historic_predictions.update_xaxes(autorange=\"reversed\")"
   ]
  },
  {
   "cell_type": "markdown",
   "id": "98415de9-518c-4d98-96e0-4112c7169fa8",
   "metadata": {},
   "source": [
    "# Raskest voksende utgifter"
   ]
  },
  {
   "cell_type": "code",
   "execution_count": null,
   "id": "92af08e7-33c9-4b1a-9cc2-02a43fe86e7f",
   "metadata": {},
   "outputs": [],
   "source": [
    "df_days = Client.query(\"\"\"\n",
    "select dato, env, service_description, sum(calculated_cost) calculated_cost from `nais-analyse-prod-2dcc.navbilling.cost_breakdown_total`\n",
    "where current_date() - 22 <= dato and dato < current_date() - 1\n",
    "and tenant in ('nav', 'dev-nais', 'example')\n",
    "group by dato, env, service_description;\n",
    "\"\"\").result().to_dataframe()"
   ]
  },
  {
   "cell_type": "code",
   "execution_count": null,
   "id": "26bd2f11-0235-4df8-b7a1-ec3156b24e15",
   "metadata": {},
   "outputs": [],
   "source": [
    "df_days[(df_days[\"service_description\"] == 'Cloud SQL') & (df_days[\"env\"] == 'prod')].sort_values(\"dato\").reset_index(drop=True)"
   ]
  },
  {
   "cell_type": "code",
   "execution_count": null,
   "id": "0bf6d4bc-1487-43fe-b7df-a0dad1bc95d6",
   "metadata": {},
   "outputs": [],
   "source": [
    "from datetime import datetime, timedelta\n",
    "# Ser ikke på gårsdagen fordi den ikke er ferdig oppdatert på kjøretidspunktet\n",
    "df_previous_7_days = df_days[df_days.dato >= (datetime.today() - timedelta(8)).date()]\n",
    "df_earlier = df_days[df_days.dato < (datetime.today() - timedelta(8)).date()]"
   ]
  },
  {
   "cell_type": "code",
   "execution_count": null,
   "id": "421a817b-047e-44ee-bc2c-3e03f0477ea3",
   "metadata": {},
   "outputs": [],
   "source": [
    "df_earlier.dato.unique()"
   ]
  },
  {
   "cell_type": "code",
   "execution_count": null,
   "id": "51295645-7968-4f65-871a-433e0be30a02",
   "metadata": {},
   "outputs": [],
   "source": [
    "df_previous_grouped = df_previous_7_days.groupby([\"service_description\", \"env\"], as_index=False).calculated_cost.mean()\n",
    "df_earlier_grouped = df_earlier.groupby([\"service_description\", \"env\"], as_index=False).calculated_cost.mean()"
   ]
  },
  {
   "cell_type": "code",
   "execution_count": null,
   "id": "2ab76e45-2847-46f4-b24a-e1b1f0089cb1",
   "metadata": {},
   "outputs": [],
   "source": [
    "df_change = df_previous_grouped.merge(df_earlier_grouped,\n",
    "                              on=[\"service_description\", \"env\"],\n",
    "                              suffixes=[\"\", \"_mean\"])"
   ]
  },
  {
   "cell_type": "code",
   "execution_count": null,
   "id": "5b70862e-135d-44d9-876c-1fc25c7dce84",
   "metadata": {},
   "outputs": [],
   "source": [
    "df_change.head()"
   ]
  },
  {
   "cell_type": "code",
   "execution_count": null,
   "id": "e9947a7c-8312-4cf8-8d9a-49ffbbd23ebe",
   "metadata": {},
   "outputs": [],
   "source": [
    "df_change[\"growth_euro\"] = df_change.calculated_cost - df_change.calculated_cost_mean\n",
    "df_change[\"growth_percent\"] = df_change.growth_euro / df_change.calculated_cost_mean\n"
   ]
  },
  {
   "cell_type": "code",
   "execution_count": null,
   "id": "bc4eb3df-c9cd-4025-99d5-80e74c5773aa",
   "metadata": {},
   "outputs": [],
   "source": [
    "df_highest_percent = df_change.sort_values(\"growth_percent\", ascending=False).reset_index(drop=True)\n",
    "df_highest_percent = df_highest_percent[df_highest_percent.calculated_cost > 10]\n",
    "df_highest_euro = df_change.sort_values(\"growth_euro\", ascending=False).reset_index(drop=True)"
   ]
  },
  {
   "cell_type": "code",
   "execution_count": null,
   "id": "56964fa0-e647-400a-b86b-174cdcce7007",
   "metadata": {},
   "outputs": [],
   "source": [
    "df_highest_percent.head()"
   ]
  },
  {
   "cell_type": "code",
   "execution_count": null,
   "id": "7d1c7387-163f-49bf-8396-210986fd67dc",
   "metadata": {},
   "outputs": [],
   "source": [
    "df_highest_euro.head()"
   ]
  },
  {
   "cell_type": "code",
   "execution_count": null,
   "id": "9f6c3682-fd1b-45ff-9454-bec76ffa7541",
   "metadata": {},
   "outputs": [],
   "source": [
    "labels = {\"service_description\":\"Produkt\", \"growth_percent\":\"Endring (%)\", \"growth_euro\":\"Endring (€)\"}\n",
    "\n",
    "fig_percent = px.bar(df_highest_percent[df_highest_percent.env == \"prod\"], \"service_description\", \"growth_percent\", height=600, hover_data=[\"service_description\", \"growth_euro\", \"growth_percent\"], labels=labels, title=\"Kostnadsendring i prod (%)\")\n",
    "fig_percent.update_layout(yaxis={'tickformat':\".0%\"})\n",
    "fig_euro = px.bar(df_highest_euro[df_highest_euro.env == \"prod\"], \"service_description\", \"growth_euro\", height=600, custom_data=[\"growth_percent\"], labels=labels, title=\"Kostnadsendring i prod (€)\")\n",
    "fig_euro.update_traces(hovertemplate=\"<br>\".join([\n",
    "        \"%{x}\",\n",
    "        \"Endring (€): %{y}\",\n",
    "        \"Endring (%): %{customdata[0]: .0%}\"\n",
    "    ]))\n",
    "\n",
    "fig_percent_dev = px.bar(df_highest_percent[df_highest_percent.env == \"dev\"], \"service_description\", \"growth_percent\", height=600, hover_data=[\"service_description\", \"growth_euro\", \"growth_percent\"], labels=labels, title=\"Kostnadsendring i dev (%)\")\n",
    "fig_percent_dev.update_layout(yaxis={'tickformat':\".0%\"})\n",
    "fig_euro_dev = px.bar(df_highest_euro[df_highest_euro.env == \"dev\"], \"service_description\", \"growth_euro\", height=600, custom_data=[\"growth_percent\"], labels=labels, title=\"Kostnadsendring i dev (€)\")\n",
    "fig_euro_dev.update_traces(hovertemplate=\"<br>\".join([\n",
    "        \"%{x}\",\n",
    "        \"Endring (€): %{y}\",\n",
    "        \"Endring (%): %{customdata[0]: .0%}\"\n",
    "    ]))\n",
    "\n",
    "figs = [fig_percent, fig_euro, fig_percent_dev, fig_euro_dev]\n",
    "for fig in figs:\n",
    "    fig.show()"
   ]
  },
  {
   "cell_type": "markdown",
   "id": "eba31ac5-faf5-46d6-b958-f043d3af35a6",
   "metadata": {},
   "source": [
    "# Datastory"
   ]
  },
  {
   "cell_type": "code",
   "execution_count": null,
   "id": "9dcb7429-f188-4a38-a103-7f2287ba1064",
   "metadata": {},
   "outputs": [],
   "source": [
    "import datastory\n",
    "ds = datastory.DataStory(\"Kostnader i GCP og Aiven\")\n",
    "\n",
    "ds.header(\"Kostnader i GCP og Aiven\")\n",
    "ds.markdown(\"Det er strammere tider og derfor større behov for å ha kontroll på store utgiftsposter. Her har vi prøvd å predikere hvor mye penger Nav kommer til å bruke på GCP og Aiven i 2023.\")\n",
    "ds.header(\"Nøkkeltall\")\n",
    "ds.markdown(f\"\"\"Forventninger er basert på utvikling siste {weeks_to_look_at} uker. \n",
    "            Merk at det er vanskelig å spå framtiden, og forventningene er basert på en lite avansert modell. \n",
    "            Derfor er det viktig å være klar over at forventede kostnader sannsynligvis ikke treffer presist på faktisk kostnad. \n",
    "            Modellen kan potensielt bomme med flere hundre tusen euro over et år.\n",
    "            \"\"\")\n",
    "ds.markdown(\"\"\"Midlertidige kilder til unøyaktighet i disse tallene: \n",
    "            - Foreløpig er nais-kostnadene til SSB inkludert i datagrunnlaget. Dette utgjør en svært liten andel av den totale regninga.\n",
    "            - Aivenkostnader er basert på en fast dollarkurs for omregning til euro. Denne avviker tidvis betydelig fra reell kurs. Det er heller ikke her snakk om ekstreme summer.\n",
    "            \"\"\")\n",
    "ds.markdown(\"\"\"NB! Et år er her definert fra 1. november til 31. oktober for å enklere kunne sammenligne med regnskap.\"\"\")\n",
    "ds.plotly(fig_numbers.to_json())\n",
    "\n",
    "ds.header(\"Kostnader per service siden 1.november 2021.\")\n",
    "ds.markdown(\"Merk at det mangler noe data fra uke 2 i 2022, slik at totalen denne uka ser lavere ut enn den var.\")\n",
    "ds.plotly(fig_tot.to_json())\n",
    "\n",
    "ds.header(f\"Forventet utvikling i kostnader ut oktober 2023 basert på utvikling siste {weeks_to_look_at} uker\")\n",
    "ds.markdown(\"1.november 2021 var mandag uke 44. Fem av dagene i uke 44 2023 er i november, og regnes derfor ikke med.\")\n",
    "ds.plotly(fig_forecast.to_json())\n",
    "\n",
    "ds.header(f\"Historisk prediksjon\")\n",
    "ds.markdown(f\"\"\"Figuren viser hva den forventede totalkostnaden for budsjettåret 2023 var på ulike tidspunkt.\n",
    "            Formålet er å få et bilde på hvor stor usikkerhet det var i prediksjonen på starten av året og hvordan den blir mindre etter som vi nærmer oss slutten av året.  \n",
    "            X-aksen viser hvor mange uker det er siden hver prediksjon ble gjort.\n",
    "            Det vil si at 0 angir siste prediksjon av totalkostnad for 2023 og første prediksjon ble gjort i starten av oktober 2022.\"\"\")\n",
    "ds.plotly(fig_historic_predictions.to_json())\n",
    "\n",
    "ds.header(\"Største endringer i kostnad i prod.\", level=2)\n",
    "ds.markdown(\"For å ikke få store overraskelser må vi følge med på store endringer i kostnad for de ulike tjenestene.\")\n",
    "ds.markdown(\"Vi sammenligner siste 7 dager (til og med to dager siden) med to foregående uker. Eksempel: Hvis datoen i dag var 09.02. ville vi sett på perioden 01.02.-07.02. (7 dager) sammenlignet med perioden 18.01.-31.01. (14 dager).\")\n",
    "ds.plotly(fig_euro.to_json())\n",
    "ds.markdown(\"For prosentvis endring ser vi kun på produkter som i snitt koster minst 5€ per dag.\")\n",
    "ds.plotly(fig_percent.to_json())\n",
    "ds.header(\"Største endringer i kostnad i dev. Siste 7 dager sammenlignet med to foregående uker.\", level=2)\n",
    "ds.plotly(fig_euro_dev.to_json())\n",
    "ds.markdown(\"For prosentvis endring ser vi kun på produkter som i snitt koster minst 5€ per dag.\")\n",
    "ds.plotly(fig_percent_dev.to_json())"
   ]
  },
  {
   "cell_type": "code",
   "execution_count": null,
   "id": "fb635637-ba3b-4b54-a0a8-792a263bb697",
   "metadata": {},
   "outputs": [],
   "source": [
    "ds.update(url=\"https://nada.intern.nav.no/api\", token=os.environ[\"KOSTNAD_STORY_TOKEN\"])"
   ]
  }
 ],
 "metadata": {
  "environment": {
   "kernel": "python3",
   "name": "common-cpu.m98",
   "type": "gcloud",
   "uri": "gcr.io/deeplearning-platform-release/base-cpu:m98"
  },
  "kernelspec": {
   "display_name": "Python 3",
   "language": "python",
   "name": "python3"
  },
  "language_info": {
   "codemirror_mode": {
    "name": "ipython",
    "version": 3
   },
   "file_extension": ".py",
   "mimetype": "text/x-python",
   "name": "python",
   "nbconvert_exporter": "python",
   "pygments_lexer": "ipython3",
   "version": "3.7.12"
  }
 },
 "nbformat": 4,
 "nbformat_minor": 5
}
