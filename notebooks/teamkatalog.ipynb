{
 "cells": [
  {
   "cell_type": "code",
   "execution_count": null,
   "id": "a0fe7620-c6a3-4565-8c6c-917dde94d0b1",
   "metadata": {},
   "outputs": [],
   "source": [
    "import requests\n",
    "import pandas as pd\n",
    "import numpy as np\n",
    "\n",
    "from google.cloud import bigquery"
   ]
  },
  {
   "cell_type": "code",
   "execution_count": null,
   "id": "081407f0-11d5-426a-91e5-c8400b451a64",
   "metadata": {
    "tags": []
   },
   "outputs": [],
   "source": [
    "# Remember naisdevice access to prod-fss\n",
    "r_team = requests.get(url='https://teamkatalog-api.intern.nav.no/team?status=ACTIVE')\n",
    "r_po = requests.get(url='https://teamkatalog-api.intern.nav.no/productarea?status=ACTIVE')"
   ]
  },
  {
   "cell_type": "code",
   "execution_count": null,
   "id": "f6f6dc46-5f0a-428f-91a3-6e8feec5f5f0",
   "metadata": {},
   "outputs": [],
   "source": [
    "# r_team = requests.get(url='https://teamkatalog-api.prod-fss-pub.nais.io/team?status=ACTIVE')\n",
    "# r_po = requests.get(url='https://teamkatalog-api.prod-fss-pub.nais.io/team?status=ACTIVE')"
   ]
  },
  {
   "cell_type": "code",
   "execution_count": null,
   "id": "a48213fd-329a-4039-858e-7b6a28d09caf",
   "metadata": {},
   "outputs": [],
   "source": [
    "df_team = pd.json_normalize(r_team.json()[\"content\"])\n",
    "df_po = pd.json_normalize(r_po.json()[\"content\"])\n",
    "\n",
    "# merge team og po\n",
    "df_all = df_team.merge(df_po, left_on=\"productAreaId\", right_on=\"id\", suffixes=[\"_team\",\"_po\"])"
   ]
  },
  {
   "cell_type": "code",
   "execution_count": null,
   "id": "93bb3a10-481a-4a49-a1cb-22cb0f79cfad",
   "metadata": {},
   "outputs": [],
   "source": [
    "client = bigquery.Client(\"nada-prod-6977\")\n",
    "# hent datasett per naisteam\n",
    "df_dp = client.query(\"select REGEXP_EXTRACT(owner, '([^@]+)') naisteam, 'dataset' type, count(*) count from `nada-prod-6977.dataproducts.dataproducts` where version = (select max(version) from `nada-prod-6977.dataproducts.dataproducts`) group by REGEXP_EXTRACT(owner, '([^@]+)')\").result().to_dataframe()\n",
    "df_ds = client.query(\"select owner naisteam, 'datastory' type, count(*) count from `nada-prod-6977.dataproducts.datastories` group by owner\").result().to_dataframe()"
   ]
  },
  {
   "cell_type": "code",
   "execution_count": null,
   "id": "8509636f-a1b6-414d-8391-51bcd00c0956",
   "metadata": {},
   "outputs": [],
   "source": [
    "df_tk = df_all.loc[:,[\"id_team\", \"name_team\", \"name_po\", \"naisTeams\"]]"
   ]
  },
  {
   "cell_type": "code",
   "execution_count": null,
   "id": "50c452d1-24dd-4b87-a879-42700e2e9c36",
   "metadata": {},
   "outputs": [],
   "source": [
    "# Kobler manuelt naisteams som ikke er registrert på et team i teamkatalogen.\n",
    "# naisteam: id_team (teamkatalog)\n",
    "tk_link = {\n",
    "    \"arbeidsforhold\": \"29d44f3f-ff09-477c-b26a-83cd0aa66116\",\n",
    "    \"yrkesskade\": \"270852c4-4c28-49a8-8189-a16897b31b95\",\n",
    "    \"team-ai\": \"76f378c5-eb35-42db-9f4d-0e8197be0131\",\n",
    "    \"spenn\": \"3c411c72-9587-4c6f-937e-2a404935b778\",\n",
    "    \"nada\": \"5ade590e-3bc4-47fb-8b8d-552392f46376\",\n",
    "    \"toi\": \"0150fd7c-df30-43ee-944e-b152d74c64d6\",\n",
    "    \"teamia\": \"e6e3ce19-2cd3-491b-9ad9-817c2e9b7d96\",\n",
    "    \"pensjon-saksbehandling\": \"45da0127-4d42-49b6-8130-e6c8e566abb8\"\n",
    "          }"
   ]
  },
  {
   "cell_type": "code",
   "execution_count": null,
   "id": "4c2ff02c-6ef3-4aa3-b81c-4e40e4e175ed",
   "metadata": {},
   "outputs": [],
   "source": [
    "def link_naisteam_to_tk(naisteam):\n",
    "    unassigned = True\n",
    "    i = 0\n",
    "    while i < df_tk.shape[0]:\n",
    "        if naisteam in df_tk.loc[i, \"naisTeams\"]:\n",
    "            return df_tk.loc[i, \"id_team\"]\n",
    "        elif naisteam in tk_link:\n",
    "            return tk_link[naisteam]\n",
    "        elif i == df_tk.shape[0] - 1:\n",
    "            return \"unknown\"\n",
    "        i += 1"
   ]
  },
  {
   "cell_type": "code",
   "execution_count": null,
   "id": "cb130dd8-3435-42e0-b91b-f54fe694fadc",
   "metadata": {},
   "outputs": [],
   "source": [
    "df_dp[\"id_team\"] = df_dp.naisteam.apply(lambda naisteam: link_naisteam_to_tk(naisteam))\n",
    "df_ds[\"id_team\"] = df_ds.naisteam.apply(lambda naisteam: link_naisteam_to_tk(naisteam))"
   ]
  },
  {
   "cell_type": "code",
   "execution_count": null,
   "id": "361bb660-480d-4987-b629-4cf63d6ecdf1",
   "metadata": {},
   "outputs": [],
   "source": [
    "df_merged1 = df_tk.merge(df_dp, on=\"id_team\", how=\"left\")\n",
    "df_merged1[\"type\"] = \"dataset\"\n",
    "df_merged2 = df_tk.merge(df_ds, on=\"id_team\", how=\"left\")\n",
    "df_merged2[\"type\"] = \"datastory\"\n",
    "\n",
    "df_merged = pd.concat([df_merged1, df_merged2])"
   ]
  },
  {
   "cell_type": "code",
   "execution_count": null,
   "id": "d0326511-6e84-421d-827e-9e1dba937da3",
   "metadata": {},
   "outputs": [],
   "source": [
    "df_merged[df_merged.id_team.duplicated()]"
   ]
  },
  {
   "cell_type": "code",
   "execution_count": null,
   "id": "84d88ea4-9053-4c62-8737-aa43e43016d9",
   "metadata": {},
   "outputs": [],
   "source": [
    "df_merged = df_merged.sort_values([\"name_po\", \"count\"]).reset_index(drop=True)\n",
    "df_merged[\"count\"] = df_merged[\"count\"].fillna(0).astype(int)\n",
    "\n",
    "#invalid_rows = df_merged.dp_count + df_merged.ds_count == 0 & pd.isna(df_merged.name_team)\n",
    "#df_merged = df_merged[~invalid_rows].reset_index(drop=True)"
   ]
  },
  {
   "cell_type": "code",
   "execution_count": null,
   "id": "f2940b08-d4f7-443d-8b38-d4f313e6f85b",
   "metadata": {},
   "outputs": [],
   "source": [
    "df_merged.head()"
   ]
  },
  {
   "cell_type": "code",
   "execution_count": null,
   "id": "b05fee18-de5b-4933-be6c-315806448ceb",
   "metadata": {},
   "outputs": [],
   "source": [
    "df_merged[df_merged[\"name_team\"] == \"Nais\"]"
   ]
  },
  {
   "cell_type": "code",
   "execution_count": null,
   "id": "fa13c859-6857-4782-9829-445adb69f46c",
   "metadata": {},
   "outputs": [],
   "source": [
    "df_unassigned_dp = df_dp[df_dp[\"id_team\"]==\"unknown\"]\n",
    "df_unassigned_ds = df_ds[df_ds[\"id_team\"]==\"unknown\"]\n",
    "if df_unassigned_dp.shape[0] > 0:\n",
    "    df_merged = pd.concat([df_merged, df_unassigned_dp]).fillna(value={\"name_team\": \"unknown\", \"name_po\": \"unknown\"})\n",
    "if df_unassigned_ds.shape[0] > 0:\n",
    "    df_merged = pd.concat([df_merged, df_unassigned_ds]).fillna(value={\"name_team\": \"unknown\", \"name_po\": \"unknown\"})\n",
    "df_merged.tail()"
   ]
  },
  {
   "cell_type": "code",
   "execution_count": null,
   "id": "09332271-c762-4bc4-8952-0cbd3511f616",
   "metadata": {},
   "outputs": [],
   "source": [
    "import datetime\n",
    "df_merged[\"last_updated\"] = datetime.datetime.utcnow().isoformat()\n",
    "df_merged.head()"
   ]
  },
  {
   "cell_type": "code",
   "execution_count": null,
   "id": "4df800f2-1671-4455-928e-7badc5396909",
   "metadata": {},
   "outputs": [],
   "source": [
    "import plotly.express as px"
   ]
  },
  {
   "cell_type": "code",
   "execution_count": null,
   "id": "078c221d-547f-461f-9997-f4cf1d17e6e0",
   "metadata": {},
   "outputs": [],
   "source": [
    "fig = px.bar(df_merged, \"name_po\", \"count\", color=\"type\", barmode=\"stack\")\n",
    "fig.update_layout(height=500)"
   ]
  },
  {
   "cell_type": "code",
   "execution_count": null,
   "id": "57d48761-f692-405d-87c3-9203fb2fa270",
   "metadata": {},
   "outputs": [],
   "source": [
    "# replace dropper tabellen og lager den på nytt. Det betyr at tilgangen må legges til på nytt på markedsplassen\n",
    "# df_merged.to_gbq('dataproducts.po_teams', \n",
    "#                  'nada-prod-6977',\n",
    "#                  if_exists='replace'\n",
    "#                  )"
   ]
  },
  {
   "cell_type": "code",
   "execution_count": null,
   "id": "cc2a3c7a-3a41-423e-b3bb-cadcf7066cd5",
   "metadata": {},
   "outputs": [],
   "source": [
    "table_id = 'nada-prod-6977.dataproducts.po_teams'\n",
    "\n",
    "job_config = bigquery.LoadJobConfig(\n",
    "    write_disposition=\"WRITE_TRUNCATE\",\n",
    ")\n",
    "\n",
    "job = client.load_table_from_dataframe(df_merged, table_id, job_config=job_config)  \n",
    "\n",
    "job.result()"
   ]
  }
 ],
 "metadata": {
  "kernelspec": {
   "display_name": "Python 3 (ipykernel)",
   "language": "python",
   "name": "python3"
  },
  "language_info": {
   "codemirror_mode": {
    "name": "ipython",
    "version": 3
   },
   "file_extension": ".py",
   "mimetype": "text/x-python",
   "name": "python",
   "nbconvert_exporter": "python",
   "pygments_lexer": "ipython3",
   "version": "3.9.13"
  }
 },
 "nbformat": 4,
 "nbformat_minor": 5
}
