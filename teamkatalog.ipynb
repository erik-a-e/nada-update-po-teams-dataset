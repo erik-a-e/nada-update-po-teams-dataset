{
 "cells": [
  {
   "cell_type": "code",
   "execution_count": null,
   "id": "a0fe7620-c6a3-4565-8c6c-917dde94d0b1",
   "metadata": {},
   "outputs": [],
   "source": [
    "import requests\n",
    "import pandas as pd\n",
    "import numpy as np\n",
    "\n",
    "from google.cloud import bigquery"
   ]
  },
  {
   "cell_type": "code",
   "execution_count": null,
   "id": "081407f0-11d5-426a-91e5-c8400b451a64",
   "metadata": {},
   "outputs": [],
   "source": [
    "# Remember naisdevice access to prod-fss\n",
    "r_team = requests.get(url='https://teamkatalog-api.intern.nav.no/team?status=ACTIVE')\n",
    "r_po = requests.get(url='https://teamkatalog-api.intern.nav.no/productarea?status=ACTIVE')"
   ]
  },
  {
   "cell_type": "code",
   "execution_count": null,
   "id": "a48213fd-329a-4039-858e-7b6a28d09caf",
   "metadata": {},
   "outputs": [],
   "source": [
    "df_team = pd.json_normalize(r_team.json()[\"content\"])\n",
    "df_po = pd.json_normalize(r_po.json()[\"content\"])\n",
    "\n",
    "# merge team og po\n",
    "df_all = df_team.merge(df_po, left_on=\"productAreaId\", right_on=\"id\", suffixes=[\"_team\",\"_po\"])"
   ]
  },
  {
   "cell_type": "code",
   "execution_count": null,
   "id": "93bb3a10-481a-4a49-a1cb-22cb0f79cfad",
   "metadata": {},
   "outputs": [],
   "source": [
    "client = bigquery.Client(\"nada-prod-6977\")\n",
    "# hent datasett per naisteam\n",
    "df_dp = client.query(\"select REGEXP_EXTRACT(owner, '([^@]+)') naisteam, count(*) dp_count from `nada-prod-6977.dataproducts.dataproducts` where version = (select max(version) from `nada-prod-6977.dataproducts.dataproducts`) group by REGEXP_EXTRACT(owner, '([^@]+)')\").result().to_dataframe()"
   ]
  },
  {
   "cell_type": "code",
   "execution_count": null,
   "id": "8509636f-a1b6-414d-8391-51bcd00c0956",
   "metadata": {},
   "outputs": [],
   "source": [
    "df_tk = df_all.loc[:,[\"id_team\", \"name_team\", \"name_po\", \"naisTeams\"]]"
   ]
  },
  {
   "cell_type": "code",
   "execution_count": null,
   "id": "50c452d1-24dd-4b87-a879-42700e2e9c36",
   "metadata": {},
   "outputs": [],
   "source": [
    "# Kobler manuelt naisteams som ikke er registrert på et team i teamkatalogen.\n",
    "# naisteam: id_team (teamkatalog)\n",
    "tk_link = {\n",
    "    \"arbeidsforhold\": \"29d44f3f-ff09-477c-b26a-83cd0aa66116\",\n",
    "    \"yrkesskade\": \"270852c4-4c28-49a8-8189-a16897b31b95\",\n",
    "    \"team-ai\": \"76f378c5-eb35-42db-9f4d-0e8197be0131\",\n",
    "    \"spenn\": \"3c411c72-9587-4c6f-937e-2a404935b778\",\n",
    "    \"nada\": \"5ade590e-3bc4-47fb-8b8d-552392f46376\",\n",
    "    \"toi\": \"0150fd7c-df30-43ee-944e-b152d74c64d6\",\n",
    "    \"teamia\": \"e6e3ce19-2cd3-491b-9ad9-817c2e9b7d96\"\n",
    "          }"
   ]
  },
  {
   "cell_type": "code",
   "execution_count": null,
   "id": "4c2ff02c-6ef3-4aa3-b81c-4e40e4e175ed",
   "metadata": {},
   "outputs": [],
   "source": [
    "def link_naisteam_to_tk(naisteam):\n",
    "    unassigned = True\n",
    "    i = 0\n",
    "    while i < df_tk.shape[0]:\n",
    "        if naisteam in df_tk.loc[i, \"naisTeams\"]:\n",
    "            return df_tk.loc[i, \"id_team\"]\n",
    "        elif naisteam in tk_link:\n",
    "            return tk_link[naisteam]\n",
    "        elif i == df_tk.shape[0] - 1:\n",
    "            return \"unknown\"\n",
    "        i += 1"
   ]
  },
  {
   "cell_type": "code",
   "execution_count": null,
   "id": "cb130dd8-3435-42e0-b91b-f54fe694fadc",
   "metadata": {},
   "outputs": [],
   "source": [
    "df_dp[\"id_team\"] = df_dp.naisteam.apply(lambda naisteam: link_naisteam_to_tk(naisteam))"
   ]
  },
  {
   "cell_type": "code",
   "execution_count": null,
   "id": "361bb660-480d-4987-b629-4cf63d6ecdf1",
   "metadata": {},
   "outputs": [],
   "source": [
    "df_merged = df_tk.merge(df_dp, on=\"id_team\", how=\"left\")"
   ]
  },
  {
   "cell_type": "code",
   "execution_count": null,
   "id": "f065df7d-5f8f-48ca-9a6a-cff8208aff07",
   "metadata": {},
   "outputs": [],
   "source": [
    "df_merged = df_merged.sort_values([\"name_po\", \"dp_count\"]).reset_index(drop=True)\n",
    "df_merged[\"dp_count\"] = df_merged.dp_count.fillna(0).astype(int)"
   ]
  },
  {
   "cell_type": "code",
   "execution_count": null,
   "id": "f2940b08-d4f7-443d-8b38-d4f313e6f85b",
   "metadata": {},
   "outputs": [],
   "source": [
    "df_merged.head()"
   ]
  },
  {
   "cell_type": "code",
   "execution_count": null,
   "id": "7503bf9e-0f39-4a98-8d81-ad561f73ad06",
   "metadata": {},
   "outputs": [],
   "source": [
    "print(df_dp.dp_count.sum(), df_merged.dp_count.sum())"
   ]
  },
  {
   "cell_type": "code",
   "execution_count": null,
   "id": "fa13c859-6857-4782-9829-445adb69f46c",
   "metadata": {},
   "outputs": [],
   "source": [
    "df_unassigned = df_dp[df_dp[\"id_team\"]==\"unknown\"]\n",
    "if df_unassigned.shape[0] > 0:\n",
    "    df_merged = pd.concat([df_merged, df_unassigned]).fillna(value={\"name_team\": \"unknown\", \"name_po\": \"unknown\"})\n",
    "\n",
    "df_merged.tail()"
   ]
  },
  {
   "cell_type": "code",
   "execution_count": null,
   "id": "4df800f2-1671-4455-928e-7badc5396909",
   "metadata": {},
   "outputs": [],
   "source": [
    "import plotly.express as px"
   ]
  },
  {
   "cell_type": "code",
   "execution_count": null,
   "id": "078c221d-547f-461f-9997-f4cf1d17e6e0",
   "metadata": {},
   "outputs": [],
   "source": [
    "fig = px.bar(df_merged, \"name_po\", \"dp_count\", color=\"name_team\")\n",
    "fig.update_layout(height=500)"
   ]
  },
  {
   "cell_type": "code",
   "execution_count": null,
   "id": "57d48761-f692-405d-87c3-9203fb2fa270",
   "metadata": {},
   "outputs": [],
   "source": [
    "# replace dropper tabellen og lager den på nytt. Det betyr at tilgangen må legges til på nytt på markedsplassen\n",
    "df_merged.to_gbq('dataproducts.po_teams', \n",
    "                 'nada-prod-6977',\n",
    "                 if_exists='replace'\n",
    "                 )"
   ]
  }
 ],
 "metadata": {
  "kernelspec": {
   "display_name": "Python 3 (ipykernel)",
   "language": "python",
   "name": "python3"
  },
  "language_info": {
   "codemirror_mode": {
    "name": "ipython",
    "version": 3
   },
   "file_extension": ".py",
   "mimetype": "text/x-python",
   "name": "python",
   "nbconvert_exporter": "python",
   "pygments_lexer": "ipython3",
   "version": "3.9.13"
  }
 },
 "nbformat": 4,
 "nbformat_minor": 5
}
